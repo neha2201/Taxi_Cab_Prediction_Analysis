{
 "cells": [
  {
   "cell_type": "code",
   "execution_count": 1,
   "id": "df1dc5f3",
   "metadata": {},
   "outputs": [],
   "source": [
    "import os\n",
    "import numpy as np\n",
    "import pandas as pd\n",
    "import matplotlib.pyplot as plt\n",
    "from sklearn.ensemble import RandomForestRegressor\n",
    "from sklearn.model_selection import train_test_split\n",
    "from sklearn import metrics\n",
    "\n",
    "# Pandas display options\n",
    "pd.set_option('display.float_format', lambda x: '%.2f' % x)"
   ]
  },
  {
   "cell_type": "code",
   "execution_count": null,
   "id": "e2e37bf1",
   "metadata": {},
   "outputs": [],
   "source": [
    "os.listdir()"
   ]
  },
  {
   "cell_type": "markdown",
   "id": "5ed2774b",
   "metadata": {},
   "source": [
    "# DataLoading"
   ]
  },
  {
   "cell_type": "code",
   "execution_count": 2,
   "id": "14474e3a",
   "metadata": {},
   "outputs": [
    {
     "data": {
      "text/html": [
       "<div>\n",
       "<style scoped>\n",
       "    .dataframe tbody tr th:only-of-type {\n",
       "        vertical-align: middle;\n",
       "    }\n",
       "\n",
       "    .dataframe tbody tr th {\n",
       "        vertical-align: top;\n",
       "    }\n",
       "\n",
       "    .dataframe thead th {\n",
       "        text-align: right;\n",
       "    }\n",
       "</style>\n",
       "<table border=\"1\" class=\"dataframe\">\n",
       "  <thead>\n",
       "    <tr style=\"text-align: right;\">\n",
       "      <th></th>\n",
       "      <th>unique_id</th>\n",
       "      <th>amount</th>\n",
       "      <th>date_time_of_pickup</th>\n",
       "      <th>longitude_of_pickup</th>\n",
       "      <th>latitude_of_pickup</th>\n",
       "      <th>longitude_of_dropoff</th>\n",
       "      <th>latitude_of_dropoff</th>\n",
       "      <th>no_of_passenger</th>\n",
       "    </tr>\n",
       "  </thead>\n",
       "  <tbody>\n",
       "    <tr>\n",
       "      <th>0</th>\n",
       "      <td>26:21.0</td>\n",
       "      <td>4.50</td>\n",
       "      <td>2009-06-15 17:26:21 UTC</td>\n",
       "      <td>-73.84</td>\n",
       "      <td>40.72</td>\n",
       "      <td>-73.84</td>\n",
       "      <td>40.71</td>\n",
       "      <td>1</td>\n",
       "    </tr>\n",
       "    <tr>\n",
       "      <th>1</th>\n",
       "      <td>52:16.0</td>\n",
       "      <td>16.90</td>\n",
       "      <td>2010-01-05 16:52:16 UTC</td>\n",
       "      <td>-74.02</td>\n",
       "      <td>40.71</td>\n",
       "      <td>-73.98</td>\n",
       "      <td>40.78</td>\n",
       "      <td>1</td>\n",
       "    </tr>\n",
       "    <tr>\n",
       "      <th>2</th>\n",
       "      <td>35:00.0</td>\n",
       "      <td>5.70</td>\n",
       "      <td>2011-08-18 00:35:00 UTC</td>\n",
       "      <td>-73.98</td>\n",
       "      <td>40.76</td>\n",
       "      <td>-73.99</td>\n",
       "      <td>40.75</td>\n",
       "      <td>2</td>\n",
       "    </tr>\n",
       "    <tr>\n",
       "      <th>3</th>\n",
       "      <td>30:42.0</td>\n",
       "      <td>7.70</td>\n",
       "      <td>2012-04-21 04:30:42 UTC</td>\n",
       "      <td>-73.99</td>\n",
       "      <td>40.73</td>\n",
       "      <td>-73.99</td>\n",
       "      <td>40.76</td>\n",
       "      <td>1</td>\n",
       "    </tr>\n",
       "    <tr>\n",
       "      <th>4</th>\n",
       "      <td>51:00.0</td>\n",
       "      <td>5.30</td>\n",
       "      <td>2010-03-09 07:51:00 UTC</td>\n",
       "      <td>-73.97</td>\n",
       "      <td>40.77</td>\n",
       "      <td>-73.96</td>\n",
       "      <td>40.78</td>\n",
       "      <td>1</td>\n",
       "    </tr>\n",
       "  </tbody>\n",
       "</table>\n",
       "</div>"
      ],
      "text/plain": [
       "  unique_id  amount      date_time_of_pickup  longitude_of_pickup  \\\n",
       "0   26:21.0    4.50  2009-06-15 17:26:21 UTC               -73.84   \n",
       "1   52:16.0   16.90  2010-01-05 16:52:16 UTC               -74.02   \n",
       "2   35:00.0    5.70  2011-08-18 00:35:00 UTC               -73.98   \n",
       "3   30:42.0    7.70  2012-04-21 04:30:42 UTC               -73.99   \n",
       "4   51:00.0    5.30  2010-03-09 07:51:00 UTC               -73.97   \n",
       "\n",
       "   latitude_of_pickup  longitude_of_dropoff  latitude_of_dropoff  \\\n",
       "0               40.72                -73.84                40.71   \n",
       "1               40.71                -73.98                40.78   \n",
       "2               40.76                -73.99                40.75   \n",
       "3               40.73                -73.99                40.76   \n",
       "4               40.77                -73.96                40.78   \n",
       "\n",
       "   no_of_passenger  \n",
       "0                1  \n",
       "1                1  \n",
       "2                2  \n",
       "3                1  \n",
       "4                1  "
      ]
     },
     "execution_count": 2,
     "metadata": {},
     "output_type": "execute_result"
    }
   ],
   "source": [
    "taxi_fare=pd.read_csv(r\"TaxiFare.csv\")\n",
    "taxi_fare.head()"
   ]
  },
  {
   "cell_type": "code",
   "execution_count": 3,
   "id": "10bd8870",
   "metadata": {},
   "outputs": [
    {
     "name": "stdout",
     "output_type": "stream",
     "text": [
      "<class 'pandas.core.frame.DataFrame'>\n",
      "RangeIndex: 50000 entries, 0 to 49999\n",
      "Data columns (total 8 columns):\n",
      " #   Column                Non-Null Count  Dtype  \n",
      "---  ------                --------------  -----  \n",
      " 0   unique_id             50000 non-null  object \n",
      " 1   amount                50000 non-null  float64\n",
      " 2   date_time_of_pickup   50000 non-null  object \n",
      " 3   longitude_of_pickup   50000 non-null  float64\n",
      " 4   latitude_of_pickup    50000 non-null  float64\n",
      " 5   longitude_of_dropoff  50000 non-null  float64\n",
      " 6   latitude_of_dropoff   50000 non-null  float64\n",
      " 7   no_of_passenger       50000 non-null  int64  \n",
      "dtypes: float64(5), int64(1), object(2)\n",
      "memory usage: 3.1+ MB\n"
     ]
    }
   ],
   "source": [
    "taxi_fare.info()     #Total 8columns, 50000 rows"
   ]
  },
  {
   "cell_type": "code",
   "execution_count": 4,
   "id": "fc1f55db",
   "metadata": {},
   "outputs": [
    {
     "data": {
      "text/plain": [
       "unique_id               0\n",
       "amount                  0\n",
       "date_time_of_pickup     0\n",
       "longitude_of_pickup     0\n",
       "latitude_of_pickup      0\n",
       "longitude_of_dropoff    0\n",
       "latitude_of_dropoff     0\n",
       "no_of_passenger         0\n",
       "dtype: int64"
      ]
     },
     "execution_count": 4,
     "metadata": {},
     "output_type": "execute_result"
    }
   ],
   "source": [
    "taxi_fare.isnull().sum().sort_values(ascending=False)"
   ]
  },
  {
   "cell_type": "markdown",
   "id": "4963cd73",
   "metadata": {},
   "source": [
    "- **No missing value**"
   ]
  },
  {
   "cell_type": "code",
   "execution_count": 5,
   "id": "c73cb23a",
   "metadata": {},
   "outputs": [
    {
     "data": {
      "text/html": [
       "<div>\n",
       "<style scoped>\n",
       "    .dataframe tbody tr th:only-of-type {\n",
       "        vertical-align: middle;\n",
       "    }\n",
       "\n",
       "    .dataframe tbody tr th {\n",
       "        vertical-align: top;\n",
       "    }\n",
       "\n",
       "    .dataframe thead th {\n",
       "        text-align: right;\n",
       "    }\n",
       "</style>\n",
       "<table border=\"1\" class=\"dataframe\">\n",
       "  <thead>\n",
       "    <tr style=\"text-align: right;\">\n",
       "      <th></th>\n",
       "      <th>count</th>\n",
       "      <th>mean</th>\n",
       "      <th>std</th>\n",
       "      <th>min</th>\n",
       "      <th>25%</th>\n",
       "      <th>50%</th>\n",
       "      <th>75%</th>\n",
       "      <th>max</th>\n",
       "    </tr>\n",
       "  </thead>\n",
       "  <tbody>\n",
       "    <tr>\n",
       "      <th>amount</th>\n",
       "      <td>50000.00</td>\n",
       "      <td>11.36</td>\n",
       "      <td>9.69</td>\n",
       "      <td>-5.00</td>\n",
       "      <td>6.00</td>\n",
       "      <td>8.50</td>\n",
       "      <td>12.50</td>\n",
       "      <td>200.00</td>\n",
       "    </tr>\n",
       "    <tr>\n",
       "      <th>longitude_of_pickup</th>\n",
       "      <td>50000.00</td>\n",
       "      <td>-72.51</td>\n",
       "      <td>10.39</td>\n",
       "      <td>-75.42</td>\n",
       "      <td>-73.99</td>\n",
       "      <td>-73.98</td>\n",
       "      <td>-73.97</td>\n",
       "      <td>40.78</td>\n",
       "    </tr>\n",
       "    <tr>\n",
       "      <th>latitude_of_pickup</th>\n",
       "      <td>50000.00</td>\n",
       "      <td>39.93</td>\n",
       "      <td>6.22</td>\n",
       "      <td>-74.01</td>\n",
       "      <td>40.73</td>\n",
       "      <td>40.75</td>\n",
       "      <td>40.77</td>\n",
       "      <td>401.08</td>\n",
       "    </tr>\n",
       "    <tr>\n",
       "      <th>longitude_of_dropoff</th>\n",
       "      <td>50000.00</td>\n",
       "      <td>-72.50</td>\n",
       "      <td>10.41</td>\n",
       "      <td>-84.65</td>\n",
       "      <td>-73.99</td>\n",
       "      <td>-73.98</td>\n",
       "      <td>-73.96</td>\n",
       "      <td>40.85</td>\n",
       "    </tr>\n",
       "    <tr>\n",
       "      <th>latitude_of_dropoff</th>\n",
       "      <td>50000.00</td>\n",
       "      <td>39.93</td>\n",
       "      <td>6.01</td>\n",
       "      <td>-74.01</td>\n",
       "      <td>40.73</td>\n",
       "      <td>40.75</td>\n",
       "      <td>40.77</td>\n",
       "      <td>43.42</td>\n",
       "    </tr>\n",
       "    <tr>\n",
       "      <th>no_of_passenger</th>\n",
       "      <td>50000.00</td>\n",
       "      <td>1.67</td>\n",
       "      <td>1.29</td>\n",
       "      <td>0.00</td>\n",
       "      <td>1.00</td>\n",
       "      <td>1.00</td>\n",
       "      <td>2.00</td>\n",
       "      <td>6.00</td>\n",
       "    </tr>\n",
       "  </tbody>\n",
       "</table>\n",
       "</div>"
      ],
      "text/plain": [
       "                        count   mean   std    min    25%    50%    75%    max\n",
       "amount               50000.00  11.36  9.69  -5.00   6.00   8.50  12.50 200.00\n",
       "longitude_of_pickup  50000.00 -72.51 10.39 -75.42 -73.99 -73.98 -73.97  40.78\n",
       "latitude_of_pickup   50000.00  39.93  6.22 -74.01  40.73  40.75  40.77 401.08\n",
       "longitude_of_dropoff 50000.00 -72.50 10.41 -84.65 -73.99 -73.98 -73.96  40.85\n",
       "latitude_of_dropoff  50000.00  39.93  6.01 -74.01  40.73  40.75  40.77  43.42\n",
       "no_of_passenger      50000.00   1.67  1.29   0.00   1.00   1.00   2.00   6.00"
      ]
     },
     "execution_count": 5,
     "metadata": {},
     "output_type": "execute_result"
    }
   ],
   "source": [
    "taxi_fare.describe().T"
   ]
  },
  {
   "cell_type": "markdown",
   "id": "0e25ad7b",
   "metadata": {},
   "source": [
    "from the above analysis, we ca say that in a taxi  min 0 and max 6 passengers can travel. \n",
    "And the taxi fare could be variate from 3 to 200 dollars. "
   ]
  },
  {
   "cell_type": "markdown",
   "id": "7d5c3dcf",
   "metadata": {},
   "source": [
    "# Univariate Analysis"
   ]
  },
  {
   "cell_type": "code",
   "execution_count": 6,
   "id": "0598a152",
   "metadata": {},
   "outputs": [
    {
     "name": "stderr",
     "output_type": "stream",
     "text": [
      "C:\\Users\\HP\\anaconda3\\lib\\site-packages\\seaborn\\distributions.py:2557: FutureWarning: `distplot` is a deprecated function and will be removed in a future version. Please adapt your code to use either `displot` (a figure-level function with similar flexibility) or `histplot` (an axes-level function for histograms).\n",
      "  warnings.warn(msg, FutureWarning)\n"
     ]
    },
    {
     "data": {
      "image/png": "[encoded data removed]",
      "text/plain": [
       "<Figure size 720x432 with 1 Axes>"
      ]
     },
     "metadata": {
      "needs_background": "light"
     },
     "output_type": "display_data"
    }
   ],
   "source": [
    "import seaborn as sns\n",
    "plt.figure(figsize = (10, 6))\n",
    "sns.distplot(taxi_fare['amount']);\n",
    "plt.title('Distribution of Fare');"
   ]
  },
  {
   "cell_type": "markdown",
   "id": "4dfbb1fc",
   "metadata": {},
   "source": [
    "From the above graph we can see that, amount feature is positive skewed."
   ]
  },
  {
   "cell_type": "code",
   "execution_count": 7,
   "id": "7d5da84b",
   "metadata": {},
   "outputs": [
    {
     "data": {
      "text/plain": [
       "(50000, 8)"
      ]
     },
     "execution_count": 7,
     "metadata": {},
     "output_type": "execute_result"
    }
   ],
   "source": [
    "taxi_fare.shape"
   ]
  },
  {
   "cell_type": "code",
   "execution_count": 8,
   "id": "843b7183",
   "metadata": {},
   "outputs": [
    {
     "name": "stdout",
     "output_type": "stream",
     "text": [
      "There are 6 rows negative in data set\n"
     ]
    }
   ],
   "source": [
    "print(\"There are {} rows negative in data set\".format(len(taxi_fare[taxi_fare[\"amount\"]<0])))"
   ]
  },
  {
   "cell_type": "code",
   "execution_count": 9,
   "id": "f35dac26",
   "metadata": {},
   "outputs": [
    {
     "name": "stdout",
     "output_type": "stream",
     "text": [
      "There are 6 negative fares.\n",
      "There are 3 $0 fares.\n",
      "There are 16 fares greater than $100.\n"
     ]
    }
   ],
   "source": [
    "print(f\"There are {len(taxi_fare[taxi_fare['amount'] < 0])} negative fares.\")\n",
    "print(f\"There are {len(taxi_fare[taxi_fare['amount'] == 0])} $0 fares.\")\n",
    "print(f\"There are {len(taxi_fare[taxi_fare['amount'] > 100])} fares greater than $100.\")"
   ]
  },
  {
   "cell_type": "code",
   "execution_count": 10,
   "id": "7eae5ce8",
   "metadata": {},
   "outputs": [
    {
     "data": {
      "image/png": "[encoded data removed]",
      "text/plain": [
       "<Figure size 576x432 with 1 Axes>"
      ]
     },
     "metadata": {
      "needs_background": "light"
     },
     "output_type": "display_data"
    }
   ],
   "source": [
    "plt.figure(figsize=(8,6))\n",
    "taxi_fare['no_of_passenger'].value_counts().plot.bar()\n",
    "plt.title('Passenger Counts'); \n",
    "plt.xlabel('Number of Passengers'); \n",
    "plt.ylabel('Count');"
   ]
  },
  {
   "cell_type": "markdown",
   "id": "374959d9",
   "metadata": {},
   "source": [
    "In the given chart, most of the no. of passengers travel is of cateogry 1."
   ]
  },
  {
   "cell_type": "code",
   "execution_count": 27,
   "id": "8a16287a",
   "metadata": {},
   "outputs": [
    {
     "data": {
      "text/plain": [
       "<AxesSubplot:ylabel='no_of_passenger'>"
      ]
     },
     "execution_count": 27,
     "metadata": {},
     "output_type": "execute_result"
    },
    {
     "data": {
      "image/png": "[encoded data removed]",
      "text/plain": [
       "<Figure size 432x288 with 1 Axes>"
      ]
     },
     "metadata": {},
     "output_type": "display_data"
    }
   ],
   "source": [
    "taxi_fare[\"no_of_passenger\"].value_counts().plot(kind=\"pie\", autopct=\"%.2f\")"
   ]
  },
  {
   "cell_type": "markdown",
   "id": "e7299c01",
   "metadata": {
    "scrolled": true
   },
   "source": [
    "# Outliers, Cleaning and Engineering"
   ]
  },
  {
   "cell_type": "code",
   "execution_count": 11,
   "id": "979b81ad",
   "metadata": {},
   "outputs": [
    {
     "data": {
      "text/html": [
       "<div>\n",
       "<style scoped>\n",
       "    .dataframe tbody tr th:only-of-type {\n",
       "        vertical-align: middle;\n",
       "    }\n",
       "\n",
       "    .dataframe tbody tr th {\n",
       "        vertical-align: top;\n",
       "    }\n",
       "\n",
       "    .dataframe thead th {\n",
       "        text-align: right;\n",
       "    }\n",
       "</style>\n",
       "<table border=\"1\" class=\"dataframe\">\n",
       "  <thead>\n",
       "    <tr style=\"text-align: right;\">\n",
       "      <th></th>\n",
       "      <th>count</th>\n",
       "      <th>mean</th>\n",
       "      <th>std</th>\n",
       "      <th>min</th>\n",
       "      <th>1%</th>\n",
       "      <th>2%</th>\n",
       "      <th>3%</th>\n",
       "      <th>4%</th>\n",
       "      <th>5%</th>\n",
       "      <th>10%</th>\n",
       "      <th>...</th>\n",
       "      <th>50%</th>\n",
       "      <th>75%</th>\n",
       "      <th>90%</th>\n",
       "      <th>95%</th>\n",
       "      <th>96%</th>\n",
       "      <th>97%</th>\n",
       "      <th>98%</th>\n",
       "      <th>99%</th>\n",
       "      <th>100%</th>\n",
       "      <th>max</th>\n",
       "    </tr>\n",
       "  </thead>\n",
       "  <tbody>\n",
       "    <tr>\n",
       "      <th>amount</th>\n",
       "      <td>50000.00</td>\n",
       "      <td>11.36</td>\n",
       "      <td>9.69</td>\n",
       "      <td>-5.00</td>\n",
       "      <td>3.30</td>\n",
       "      <td>3.50</td>\n",
       "      <td>3.70</td>\n",
       "      <td>4.00</td>\n",
       "      <td>4.10</td>\n",
       "      <td>4.50</td>\n",
       "      <td>...</td>\n",
       "      <td>8.50</td>\n",
       "      <td>12.50</td>\n",
       "      <td>20.50</td>\n",
       "      <td>30.50</td>\n",
       "      <td>33.54</td>\n",
       "      <td>38.33</td>\n",
       "      <td>46.50</td>\n",
       "      <td>52.00</td>\n",
       "      <td>200.00</td>\n",
       "      <td>200.00</td>\n",
       "    </tr>\n",
       "    <tr>\n",
       "      <th>longitude_of_pickup</th>\n",
       "      <td>50000.00</td>\n",
       "      <td>-72.51</td>\n",
       "      <td>10.39</td>\n",
       "      <td>-75.42</td>\n",
       "      <td>-74.01</td>\n",
       "      <td>-74.01</td>\n",
       "      <td>-74.01</td>\n",
       "      <td>-74.01</td>\n",
       "      <td>-74.01</td>\n",
       "      <td>-74.00</td>\n",
       "      <td>...</td>\n",
       "      <td>-73.98</td>\n",
       "      <td>-73.97</td>\n",
       "      <td>-73.95</td>\n",
       "      <td>-73.87</td>\n",
       "      <td>-73.86</td>\n",
       "      <td>-73.79</td>\n",
       "      <td>-73.14</td>\n",
       "      <td>0.00</td>\n",
       "      <td>40.78</td>\n",
       "      <td>40.78</td>\n",
       "    </tr>\n",
       "    <tr>\n",
       "      <th>latitude_of_pickup</th>\n",
       "      <td>50000.00</td>\n",
       "      <td>39.93</td>\n",
       "      <td>6.22</td>\n",
       "      <td>-74.01</td>\n",
       "      <td>0.00</td>\n",
       "      <td>40.58</td>\n",
       "      <td>40.65</td>\n",
       "      <td>40.68</td>\n",
       "      <td>40.70</td>\n",
       "      <td>40.72</td>\n",
       "      <td>...</td>\n",
       "      <td>40.75</td>\n",
       "      <td>40.77</td>\n",
       "      <td>40.78</td>\n",
       "      <td>40.79</td>\n",
       "      <td>40.79</td>\n",
       "      <td>40.79</td>\n",
       "      <td>40.80</td>\n",
       "      <td>40.81</td>\n",
       "      <td>401.08</td>\n",
       "      <td>401.08</td>\n",
       "    </tr>\n",
       "    <tr>\n",
       "      <th>longitude_of_dropoff</th>\n",
       "      <td>50000.00</td>\n",
       "      <td>-72.50</td>\n",
       "      <td>10.41</td>\n",
       "      <td>-84.65</td>\n",
       "      <td>-74.02</td>\n",
       "      <td>-74.01</td>\n",
       "      <td>-74.01</td>\n",
       "      <td>-74.01</td>\n",
       "      <td>-74.01</td>\n",
       "      <td>-74.00</td>\n",
       "      <td>...</td>\n",
       "      <td>-73.98</td>\n",
       "      <td>-73.96</td>\n",
       "      <td>-73.94</td>\n",
       "      <td>-73.87</td>\n",
       "      <td>-73.86</td>\n",
       "      <td>-73.80</td>\n",
       "      <td>-73.42</td>\n",
       "      <td>0.00</td>\n",
       "      <td>40.85</td>\n",
       "      <td>40.85</td>\n",
       "    </tr>\n",
       "    <tr>\n",
       "      <th>latitude_of_dropoff</th>\n",
       "      <td>50000.00</td>\n",
       "      <td>39.93</td>\n",
       "      <td>6.01</td>\n",
       "      <td>-74.01</td>\n",
       "      <td>0.00</td>\n",
       "      <td>40.56</td>\n",
       "      <td>40.65</td>\n",
       "      <td>40.67</td>\n",
       "      <td>40.69</td>\n",
       "      <td>40.71</td>\n",
       "      <td>...</td>\n",
       "      <td>40.75</td>\n",
       "      <td>40.77</td>\n",
       "      <td>40.78</td>\n",
       "      <td>40.79</td>\n",
       "      <td>40.80</td>\n",
       "      <td>40.80</td>\n",
       "      <td>40.81</td>\n",
       "      <td>40.83</td>\n",
       "      <td>43.42</td>\n",
       "      <td>43.42</td>\n",
       "    </tr>\n",
       "    <tr>\n",
       "      <th>no_of_passenger</th>\n",
       "      <td>50000.00</td>\n",
       "      <td>1.67</td>\n",
       "      <td>1.29</td>\n",
       "      <td>0.00</td>\n",
       "      <td>1.00</td>\n",
       "      <td>1.00</td>\n",
       "      <td>1.00</td>\n",
       "      <td>1.00</td>\n",
       "      <td>1.00</td>\n",
       "      <td>1.00</td>\n",
       "      <td>...</td>\n",
       "      <td>1.00</td>\n",
       "      <td>2.00</td>\n",
       "      <td>4.00</td>\n",
       "      <td>5.00</td>\n",
       "      <td>5.00</td>\n",
       "      <td>5.00</td>\n",
       "      <td>5.00</td>\n",
       "      <td>6.00</td>\n",
       "      <td>6.00</td>\n",
       "      <td>6.00</td>\n",
       "    </tr>\n",
       "  </tbody>\n",
       "</table>\n",
       "<p>6 rows × 21 columns</p>\n",
       "</div>"
      ],
      "text/plain": [
       "                        count   mean   std    min     1%     2%     3%     4%  \\\n",
       "amount               50000.00  11.36  9.69  -5.00   3.30   3.50   3.70   4.00   \n",
       "longitude_of_pickup  50000.00 -72.51 10.39 -75.42 -74.01 -74.01 -74.01 -74.01   \n",
       "latitude_of_pickup   50000.00  39.93  6.22 -74.01   0.00  40.58  40.65  40.68   \n",
       "longitude_of_dropoff 50000.00 -72.50 10.41 -84.65 -74.02 -74.01 -74.01 -74.01   \n",
       "latitude_of_dropoff  50000.00  39.93  6.01 -74.01   0.00  40.56  40.65  40.67   \n",
       "no_of_passenger      50000.00   1.67  1.29   0.00   1.00   1.00   1.00   1.00   \n",
       "\n",
       "                         5%    10%  ...    50%    75%    90%    95%    96%  \\\n",
       "amount                 4.10   4.50  ...   8.50  12.50  20.50  30.50  33.54   \n",
       "longitude_of_pickup  -74.01 -74.00  ... -73.98 -73.97 -73.95 -73.87 -73.86   \n",
       "latitude_of_pickup    40.70  40.72  ...  40.75  40.77  40.78  40.79  40.79   \n",
       "longitude_of_dropoff -74.01 -74.00  ... -73.98 -73.96 -73.94 -73.87 -73.86   \n",
       "latitude_of_dropoff   40.69  40.71  ...  40.75  40.77  40.78  40.79  40.80   \n",
       "no_of_passenger        1.00   1.00  ...   1.00   2.00   4.00   5.00   5.00   \n",
       "\n",
       "                        97%    98%   99%   100%    max  \n",
       "amount                38.33  46.50 52.00 200.00 200.00  \n",
       "longitude_of_pickup  -73.79 -73.14  0.00  40.78  40.78  \n",
       "latitude_of_pickup    40.79  40.80 40.81 401.08 401.08  \n",
       "longitude_of_dropoff -73.80 -73.42  0.00  40.85  40.85  \n",
       "latitude_of_dropoff   40.80  40.81 40.83  43.42  43.42  \n",
       "no_of_passenger        5.00   5.00  6.00   6.00   6.00  \n",
       "\n",
       "[6 rows x 21 columns]"
      ]
     },
     "execution_count": 11,
     "metadata": {},
     "output_type": "execute_result"
    }
   ],
   "source": [
    "taxi_fare.describe(percentiles=[.01,.02,.03,.04,.05,.1,.25,.5,.75,.9,.95,.96,.97,.98,.99,1]).T"
   ]
  },
  {
   "cell_type": "markdown",
   "id": "1ea6b0f8",
   "metadata": {},
   "source": [
    "- After analysing the statistics there are outliers present in the dataset. These datapopints will prevent model running efficiently. So,better to cap these outliers.\n",
    "\n",
    "- First check the no. of observations present in the given dataset"
   ]
  },
  {
   "cell_type": "code",
   "execution_count": 3,
   "id": "e96f75c9",
   "metadata": {},
   "outputs": [
    {
     "data": {
      "text/plain": [
       "(498, 415)"
      ]
     },
     "execution_count": 3,
     "metadata": {},
     "output_type": "execute_result"
    }
   ],
   "source": [
    "len(taxi_fare[taxi_fare[\"amount\"]>52]) , len(taxi_fare[taxi_fare[\"amount\"]<= 3])\n"
   ]
  },
  {
   "cell_type": "code",
   "execution_count": 37,
   "id": "6e249a36",
   "metadata": {},
   "outputs": [
    {
     "data": {
      "text/plain": [
       "(165, 989)"
      ]
     },
     "execution_count": 37,
     "metadata": {},
     "output_type": "execute_result"
    }
   ],
   "source": [
    "len(taxi_fare[taxi_fare['no_of_passenger'] < 1]) , len(taxi_fare[taxi_fare['no_of_passenger'] == 6])"
   ]
  },
  {
   "cell_type": "markdown",
   "id": "a9fed51b",
   "metadata": {},
   "source": [
    "- **Minimum amount is -5**\n",
    "- **rows with amount <= 3 is 415 , and amount >52 is 498**\n",
    "- **rows with no.passengers ==0 is 165, that could be possible for some reasons**\n",
    "- **rows with no.passengers >=6 is 989, this could be also possible for some cases**"
   ]
  },
  {
   "cell_type": "markdown",
   "id": "c2e71d85",
   "metadata": {},
   "source": [
    "## Outliers Capping"
   ]
  },
  {
   "cell_type": "code",
   "execution_count": 12,
   "id": "6138eb1e",
   "metadata": {},
   "outputs": [],
   "source": [
    "taxi_fare[\"amount\"]=np.where(taxi_fare[\"amount\"]>=52,52,taxi_fare[\"amount\"])\n",
    "taxi_fare[\"amount\"]=np.where(taxi_fare[\"amount\"]<=3,3,taxi_fare[\"amount\"])\n",
    "taxi_fare[\"no_of_passenger\"]=np.where(taxi_fare[\"no_of_passenger\"]>4,4,taxi_fare[\"no_of_passenger\"])"
   ]
  },
  {
   "cell_type": "code",
   "execution_count": 13,
   "id": "5dda22c7",
   "metadata": {
    "scrolled": true
   },
   "outputs": [
    {
     "data": {
      "text/html": [
       "<div>\n",
       "<style scoped>\n",
       "    .dataframe tbody tr th:only-of-type {\n",
       "        vertical-align: middle;\n",
       "    }\n",
       "\n",
       "    .dataframe tbody tr th {\n",
       "        vertical-align: top;\n",
       "    }\n",
       "\n",
       "    .dataframe thead th {\n",
       "        text-align: right;\n",
       "    }\n",
       "</style>\n",
       "<table border=\"1\" class=\"dataframe\">\n",
       "  <thead>\n",
       "    <tr style=\"text-align: right;\">\n",
       "      <th></th>\n",
       "      <th>count</th>\n",
       "      <th>mean</th>\n",
       "      <th>std</th>\n",
       "      <th>min</th>\n",
       "      <th>1%</th>\n",
       "      <th>2%</th>\n",
       "      <th>3%</th>\n",
       "      <th>4%</th>\n",
       "      <th>5%</th>\n",
       "      <th>10%</th>\n",
       "      <th>...</th>\n",
       "      <th>50%</th>\n",
       "      <th>75%</th>\n",
       "      <th>90%</th>\n",
       "      <th>95%</th>\n",
       "      <th>96%</th>\n",
       "      <th>97%</th>\n",
       "      <th>98%</th>\n",
       "      <th>99%</th>\n",
       "      <th>100%</th>\n",
       "      <th>max</th>\n",
       "    </tr>\n",
       "  </thead>\n",
       "  <tbody>\n",
       "    <tr>\n",
       "      <th>amount</th>\n",
       "      <td>50000.00</td>\n",
       "      <td>11.26</td>\n",
       "      <td>8.97</td>\n",
       "      <td>3.00</td>\n",
       "      <td>3.30</td>\n",
       "      <td>3.50</td>\n",
       "      <td>3.70</td>\n",
       "      <td>4.00</td>\n",
       "      <td>4.10</td>\n",
       "      <td>4.50</td>\n",
       "      <td>...</td>\n",
       "      <td>8.50</td>\n",
       "      <td>12.50</td>\n",
       "      <td>20.50</td>\n",
       "      <td>30.50</td>\n",
       "      <td>33.54</td>\n",
       "      <td>38.33</td>\n",
       "      <td>46.50</td>\n",
       "      <td>52.00</td>\n",
       "      <td>52.00</td>\n",
       "      <td>52.00</td>\n",
       "    </tr>\n",
       "    <tr>\n",
       "      <th>longitude_of_pickup</th>\n",
       "      <td>50000.00</td>\n",
       "      <td>-72.51</td>\n",
       "      <td>10.39</td>\n",
       "      <td>-75.42</td>\n",
       "      <td>-74.01</td>\n",
       "      <td>-74.01</td>\n",
       "      <td>-74.01</td>\n",
       "      <td>-74.01</td>\n",
       "      <td>-74.01</td>\n",
       "      <td>-74.00</td>\n",
       "      <td>...</td>\n",
       "      <td>-73.98</td>\n",
       "      <td>-73.97</td>\n",
       "      <td>-73.95</td>\n",
       "      <td>-73.87</td>\n",
       "      <td>-73.86</td>\n",
       "      <td>-73.79</td>\n",
       "      <td>-73.14</td>\n",
       "      <td>0.00</td>\n",
       "      <td>40.78</td>\n",
       "      <td>40.78</td>\n",
       "    </tr>\n",
       "    <tr>\n",
       "      <th>latitude_of_pickup</th>\n",
       "      <td>50000.00</td>\n",
       "      <td>39.93</td>\n",
       "      <td>6.22</td>\n",
       "      <td>-74.01</td>\n",
       "      <td>0.00</td>\n",
       "      <td>40.58</td>\n",
       "      <td>40.65</td>\n",
       "      <td>40.68</td>\n",
       "      <td>40.70</td>\n",
       "      <td>40.72</td>\n",
       "      <td>...</td>\n",
       "      <td>40.75</td>\n",
       "      <td>40.77</td>\n",
       "      <td>40.78</td>\n",
       "      <td>40.79</td>\n",
       "      <td>40.79</td>\n",
       "      <td>40.79</td>\n",
       "      <td>40.80</td>\n",
       "      <td>40.81</td>\n",
       "      <td>401.08</td>\n",
       "      <td>401.08</td>\n",
       "    </tr>\n",
       "    <tr>\n",
       "      <th>longitude_of_dropoff</th>\n",
       "      <td>50000.00</td>\n",
       "      <td>-72.50</td>\n",
       "      <td>10.41</td>\n",
       "      <td>-84.65</td>\n",
       "      <td>-74.02</td>\n",
       "      <td>-74.01</td>\n",
       "      <td>-74.01</td>\n",
       "      <td>-74.01</td>\n",
       "      <td>-74.01</td>\n",
       "      <td>-74.00</td>\n",
       "      <td>...</td>\n",
       "      <td>-73.98</td>\n",
       "      <td>-73.96</td>\n",
       "      <td>-73.94</td>\n",
       "      <td>-73.87</td>\n",
       "      <td>-73.86</td>\n",
       "      <td>-73.80</td>\n",
       "      <td>-73.42</td>\n",
       "      <td>0.00</td>\n",
       "      <td>40.85</td>\n",
       "      <td>40.85</td>\n",
       "    </tr>\n",
       "    <tr>\n",
       "      <th>latitude_of_dropoff</th>\n",
       "      <td>50000.00</td>\n",
       "      <td>39.93</td>\n",
       "      <td>6.01</td>\n",
       "      <td>-74.01</td>\n",
       "      <td>0.00</td>\n",
       "      <td>40.56</td>\n",
       "      <td>40.65</td>\n",
       "      <td>40.67</td>\n",
       "      <td>40.69</td>\n",
       "      <td>40.71</td>\n",
       "      <td>...</td>\n",
       "      <td>40.75</td>\n",
       "      <td>40.77</td>\n",
       "      <td>40.78</td>\n",
       "      <td>40.79</td>\n",
       "      <td>40.80</td>\n",
       "      <td>40.80</td>\n",
       "      <td>40.81</td>\n",
       "      <td>40.83</td>\n",
       "      <td>43.42</td>\n",
       "      <td>43.42</td>\n",
       "    </tr>\n",
       "    <tr>\n",
       "      <th>no_of_passenger</th>\n",
       "      <td>50000.00</td>\n",
       "      <td>1.56</td>\n",
       "      <td>1.00</td>\n",
       "      <td>0.00</td>\n",
       "      <td>1.00</td>\n",
       "      <td>1.00</td>\n",
       "      <td>1.00</td>\n",
       "      <td>1.00</td>\n",
       "      <td>1.00</td>\n",
       "      <td>1.00</td>\n",
       "      <td>...</td>\n",
       "      <td>1.00</td>\n",
       "      <td>2.00</td>\n",
       "      <td>4.00</td>\n",
       "      <td>4.00</td>\n",
       "      <td>4.00</td>\n",
       "      <td>4.00</td>\n",
       "      <td>4.00</td>\n",
       "      <td>4.00</td>\n",
       "      <td>4.00</td>\n",
       "      <td>4.00</td>\n",
       "    </tr>\n",
       "  </tbody>\n",
       "</table>\n",
       "<p>6 rows × 21 columns</p>\n",
       "</div>"
      ],
      "text/plain": [
       "                        count   mean   std    min     1%     2%     3%     4%  \\\n",
       "amount               50000.00  11.26  8.97   3.00   3.30   3.50   3.70   4.00   \n",
       "longitude_of_pickup  50000.00 -72.51 10.39 -75.42 -74.01 -74.01 -74.01 -74.01   \n",
       "latitude_of_pickup   50000.00  39.93  6.22 -74.01   0.00  40.58  40.65  40.68   \n",
       "longitude_of_dropoff 50000.00 -72.50 10.41 -84.65 -74.02 -74.01 -74.01 -74.01   \n",
       "latitude_of_dropoff  50000.00  39.93  6.01 -74.01   0.00  40.56  40.65  40.67   \n",
       "no_of_passenger      50000.00   1.56  1.00   0.00   1.00   1.00   1.00   1.00   \n",
       "\n",
       "                         5%    10%  ...    50%    75%    90%    95%    96%  \\\n",
       "amount                 4.10   4.50  ...   8.50  12.50  20.50  30.50  33.54   \n",
       "longitude_of_pickup  -74.01 -74.00  ... -73.98 -73.97 -73.95 -73.87 -73.86   \n",
       "latitude_of_pickup    40.70  40.72  ...  40.75  40.77  40.78  40.79  40.79   \n",
       "longitude_of_dropoff -74.01 -74.00  ... -73.98 -73.96 -73.94 -73.87 -73.86   \n",
       "latitude_of_dropoff   40.69  40.71  ...  40.75  40.77  40.78  40.79  40.80   \n",
       "no_of_passenger        1.00   1.00  ...   1.00   2.00   4.00   4.00   4.00   \n",
       "\n",
       "                        97%    98%   99%   100%    max  \n",
       "amount                38.33  46.50 52.00  52.00  52.00  \n",
       "longitude_of_pickup  -73.79 -73.14  0.00  40.78  40.78  \n",
       "latitude_of_pickup    40.79  40.80 40.81 401.08 401.08  \n",
       "longitude_of_dropoff -73.80 -73.42  0.00  40.85  40.85  \n",
       "latitude_of_dropoff   40.80  40.81 40.83  43.42  43.42  \n",
       "no_of_passenger        4.00   4.00  4.00   4.00   4.00  \n",
       "\n",
       "[6 rows x 21 columns]"
      ]
     },
     "execution_count": 13,
     "metadata": {},
     "output_type": "execute_result"
    }
   ],
   "source": [
    "taxi_fare.describe(percentiles=[.01,.02,.03,.04,.05,.1,.25,.5,.75,.9,.95,.96,.97,.98,.99,1]).T"
   ]
  },
  {
   "cell_type": "code",
   "execution_count": 15,
   "id": "cb96013a",
   "metadata": {},
   "outputs": [],
   "source": [
    "# created function for finding distance using minkowski formula\n",
    "\n",
    "def minkowski_distance(x1, x2, y1, y2, p):\n",
    "    return ((abs(x2 - x1) ** p) + (abs(y2 - y1)) ** p) ** (1 / p)"
   ]
  },
  {
   "cell_type": "code",
   "execution_count": 16,
   "id": "bc268da8",
   "metadata": {},
   "outputs": [],
   "source": [
    "taxi_fare['total_distance'] = minkowski_distance(taxi_fare['longitude_of_pickup'],\n",
    "                                               taxi_fare['longitude_of_dropoff'],\n",
    "                                               taxi_fare['latitude_of_pickup'],\n",
    "                                               taxi_fare['latitude_of_dropoff'],2\n",
    "                                              )"
   ]
  },
  {
   "cell_type": "markdown",
   "id": "be323610",
   "metadata": {},
   "source": [
    "It does seem that the rides with a larger absolute difference in both longitude and latitude tend to cost more. To capture both differences in a single variable, we can add up the two differences in latitude and longitude and also find the square root of the sum of differences squared. The former feature would be called the Manhattan distance - or l1 norm - and the latter is called the Euclidean distance - or l2 norm. Both of these distances are specific examples of the general Minkowski distance."
   ]
  },
  {
   "cell_type": "markdown",
   "id": "8d493bd5",
   "metadata": {},
   "source": [
    "###### Manhattan and Euclidean Distance\n",
    "The Minkowski Distance between two points is expressed as:\n",
    "\n",
    "D(X,Y)=(∑i=1n|xi−yi|p)1/p\n",
    "\n",
    "if p = 1, then this is the Manhattan distance and if p = 2 this is the Euclidean distance. You may also see these referred to as the l1 or l2 norm where the number indicates p in the equation.\n",
    "\n",
    "I should point out that these equations are only valid for actual distances in a cartesian coordinate system and here we only use them to find relative distances. To find the actual distances in terms of kilometers, we have to work with the latitude and longitude geographical coordinate system. This will be done later using the Haversine formula."
   ]
  },
  {
   "cell_type": "markdown",
   "id": "0c4b3893",
   "metadata": {},
   "source": [
    "# Feature Enigneering "
   ]
  },
  {
   "cell_type": "code",
   "execution_count": 17,
   "id": "68e7d959",
   "metadata": {},
   "outputs": [],
   "source": [
    "taxi_fare[\"date_time_pickup\"]=pd.to_datetime(taxi_fare[\"date_time_of_pickup\"])\n",
    "taxi_fare[\"pickup_day\"]=taxi_fare[\"date_time_pickup\"].dt.day_name()\n",
    "taxi_fare[\"pickup_day_no\"]=taxi_fare[\"date_time_pickup\"].dt.weekday\n",
    "taxi_fare[\"pickup_hour\"]=taxi_fare[\"date_time_pickup\"].dt.hour\n",
    "taxi_fare[\"day_of_month\"]=taxi_fare[\"date_time_pickup\"].dt.day\n",
    "taxi_fare[\"year\"]=taxi_fare[\"date_time_pickup\"].dt.year\n",
    "taxi_fare[\"Is_it_Weekend\"]=np.where(taxi_fare[\"pickup_day_no\"].isin([5,6]),1,0)\n",
    "taxi_fare[\"Is_Starting_month\"]=np.where(taxi_fare[\"day_of_month\"].isin(range(1,11)),1,0)\n",
    "taxi_fare[\"Is_Mid_month\"]=np.where(taxi_fare[\"day_of_month\"].isin(range(11,21)),1,0)\n",
    "taxi_fare[\"Is_Ending_month\"]=np.where(taxi_fare[\"day_of_month\"].isin(range(21,31)),1,0)\n",
    "taxi_fare[\"Is_Leap\"]=np.where(taxi_fare[\"year\"]%4==0,1,0)"
   ]
  },
  {
   "cell_type": "code",
   "execution_count": 18,
   "id": "8b6f2c40",
   "metadata": {},
   "outputs": [],
   "source": [
    "def time_of_day(x):\n",
    "    if x in range(6,12):\n",
    "        return 'Morning'\n",
    "    elif x in range(12,16):\n",
    "        return 'Afternoon'\n",
    "    elif x in range(16,22):\n",
    "        return 'Evening'\n",
    "    else:\n",
    "        return 'night'\n",
    "    \n",
    "taxi_fare[\"time_of_day\"]=taxi_fare[\"pickup_hour\"].apply(time_of_day)"
   ]
  },
  {
   "cell_type": "code",
   "execution_count": 49,
   "id": "cc65ac63",
   "metadata": {},
   "outputs": [
    {
     "data": {
      "text/html": [
       "<div>\n",
       "<style scoped>\n",
       "    .dataframe tbody tr th:only-of-type {\n",
       "        vertical-align: middle;\n",
       "    }\n",
       "\n",
       "    .dataframe tbody tr th {\n",
       "        vertical-align: top;\n",
       "    }\n",
       "\n",
       "    .dataframe thead th {\n",
       "        text-align: right;\n",
       "    }\n",
       "</style>\n",
       "<table border=\"1\" class=\"dataframe\">\n",
       "  <thead>\n",
       "    <tr style=\"text-align: right;\">\n",
       "      <th></th>\n",
       "      <th>unique_id</th>\n",
       "      <th>amount</th>\n",
       "      <th>date_time_of_pickup</th>\n",
       "      <th>longitude_of_pickup</th>\n",
       "      <th>latitude_of_pickup</th>\n",
       "      <th>longitude_of_dropoff</th>\n",
       "      <th>latitude_of_dropoff</th>\n",
       "      <th>no_of_passenger</th>\n",
       "      <th>total_distance</th>\n",
       "      <th>date_time_pickup</th>\n",
       "      <th>...</th>\n",
       "      <th>pickup_day_no</th>\n",
       "      <th>pickup_hour</th>\n",
       "      <th>day_of_month</th>\n",
       "      <th>year</th>\n",
       "      <th>Is_it_Weekend</th>\n",
       "      <th>Is_Starting_month</th>\n",
       "      <th>Is_Mid_month</th>\n",
       "      <th>Is_Ending_month</th>\n",
       "      <th>Is_Leap</th>\n",
       "      <th>time_of_day</th>\n",
       "    </tr>\n",
       "  </thead>\n",
       "  <tbody>\n",
       "    <tr>\n",
       "      <th>0</th>\n",
       "      <td>26:21.0</td>\n",
       "      <td>4.50</td>\n",
       "      <td>2009-06-15 17:26:21 UTC</td>\n",
       "      <td>-73.84</td>\n",
       "      <td>40.72</td>\n",
       "      <td>-73.84</td>\n",
       "      <td>40.71</td>\n",
       "      <td>1</td>\n",
       "      <td>0.01</td>\n",
       "      <td>2009-06-15 17:26:21+00:00</td>\n",
       "      <td>...</td>\n",
       "      <td>0</td>\n",
       "      <td>17</td>\n",
       "      <td>15</td>\n",
       "      <td>2009</td>\n",
       "      <td>0</td>\n",
       "      <td>0</td>\n",
       "      <td>1</td>\n",
       "      <td>0</td>\n",
       "      <td>0</td>\n",
       "      <td>Evening</td>\n",
       "    </tr>\n",
       "    <tr>\n",
       "      <th>1</th>\n",
       "      <td>52:16.0</td>\n",
       "      <td>16.90</td>\n",
       "      <td>2010-01-05 16:52:16 UTC</td>\n",
       "      <td>-74.02</td>\n",
       "      <td>40.71</td>\n",
       "      <td>-73.98</td>\n",
       "      <td>40.78</td>\n",
       "      <td>1</td>\n",
       "      <td>0.08</td>\n",
       "      <td>2010-01-05 16:52:16+00:00</td>\n",
       "      <td>...</td>\n",
       "      <td>1</td>\n",
       "      <td>16</td>\n",
       "      <td>5</td>\n",
       "      <td>2010</td>\n",
       "      <td>0</td>\n",
       "      <td>1</td>\n",
       "      <td>0</td>\n",
       "      <td>0</td>\n",
       "      <td>0</td>\n",
       "      <td>Evening</td>\n",
       "    </tr>\n",
       "    <tr>\n",
       "      <th>2</th>\n",
       "      <td>35:00.0</td>\n",
       "      <td>5.70</td>\n",
       "      <td>2011-08-18 00:35:00 UTC</td>\n",
       "      <td>-73.98</td>\n",
       "      <td>40.76</td>\n",
       "      <td>-73.99</td>\n",
       "      <td>40.75</td>\n",
       "      <td>2</td>\n",
       "      <td>0.01</td>\n",
       "      <td>2011-08-18 00:35:00+00:00</td>\n",
       "      <td>...</td>\n",
       "      <td>3</td>\n",
       "      <td>0</td>\n",
       "      <td>18</td>\n",
       "      <td>2011</td>\n",
       "      <td>0</td>\n",
       "      <td>0</td>\n",
       "      <td>1</td>\n",
       "      <td>0</td>\n",
       "      <td>0</td>\n",
       "      <td>night</td>\n",
       "    </tr>\n",
       "    <tr>\n",
       "      <th>3</th>\n",
       "      <td>30:42.0</td>\n",
       "      <td>7.70</td>\n",
       "      <td>2012-04-21 04:30:42 UTC</td>\n",
       "      <td>-73.99</td>\n",
       "      <td>40.73</td>\n",
       "      <td>-73.99</td>\n",
       "      <td>40.76</td>\n",
       "      <td>1</td>\n",
       "      <td>0.03</td>\n",
       "      <td>2012-04-21 04:30:42+00:00</td>\n",
       "      <td>...</td>\n",
       "      <td>5</td>\n",
       "      <td>4</td>\n",
       "      <td>21</td>\n",
       "      <td>2012</td>\n",
       "      <td>1</td>\n",
       "      <td>0</td>\n",
       "      <td>0</td>\n",
       "      <td>1</td>\n",
       "      <td>1</td>\n",
       "      <td>night</td>\n",
       "    </tr>\n",
       "    <tr>\n",
       "      <th>4</th>\n",
       "      <td>51:00.0</td>\n",
       "      <td>5.30</td>\n",
       "      <td>2010-03-09 07:51:00 UTC</td>\n",
       "      <td>-73.97</td>\n",
       "      <td>40.77</td>\n",
       "      <td>-73.96</td>\n",
       "      <td>40.78</td>\n",
       "      <td>1</td>\n",
       "      <td>0.02</td>\n",
       "      <td>2010-03-09 07:51:00+00:00</td>\n",
       "      <td>...</td>\n",
       "      <td>1</td>\n",
       "      <td>7</td>\n",
       "      <td>9</td>\n",
       "      <td>2010</td>\n",
       "      <td>0</td>\n",
       "      <td>1</td>\n",
       "      <td>0</td>\n",
       "      <td>0</td>\n",
       "      <td>0</td>\n",
       "      <td>Morning</td>\n",
       "    </tr>\n",
       "    <tr>\n",
       "      <th>...</th>\n",
       "      <td>...</td>\n",
       "      <td>...</td>\n",
       "      <td>...</td>\n",
       "      <td>...</td>\n",
       "      <td>...</td>\n",
       "      <td>...</td>\n",
       "      <td>...</td>\n",
       "      <td>...</td>\n",
       "      <td>...</td>\n",
       "      <td>...</td>\n",
       "      <td>...</td>\n",
       "      <td>...</td>\n",
       "      <td>...</td>\n",
       "      <td>...</td>\n",
       "      <td>...</td>\n",
       "      <td>...</td>\n",
       "      <td>...</td>\n",
       "      <td>...</td>\n",
       "      <td>...</td>\n",
       "      <td>...</td>\n",
       "      <td>...</td>\n",
       "    </tr>\n",
       "    <tr>\n",
       "      <th>49995</th>\n",
       "      <td>25:15.0</td>\n",
       "      <td>15.00</td>\n",
       "      <td>2013-06-12 23:25:15 UTC</td>\n",
       "      <td>-74.00</td>\n",
       "      <td>40.75</td>\n",
       "      <td>-74.02</td>\n",
       "      <td>40.71</td>\n",
       "      <td>1</td>\n",
       "      <td>0.05</td>\n",
       "      <td>2013-06-12 23:25:15+00:00</td>\n",
       "      <td>...</td>\n",
       "      <td>2</td>\n",
       "      <td>23</td>\n",
       "      <td>12</td>\n",
       "      <td>2013</td>\n",
       "      <td>0</td>\n",
       "      <td>0</td>\n",
       "      <td>1</td>\n",
       "      <td>0</td>\n",
       "      <td>0</td>\n",
       "      <td>night</td>\n",
       "    </tr>\n",
       "    <tr>\n",
       "      <th>49996</th>\n",
       "      <td>19:18.0</td>\n",
       "      <td>7.50</td>\n",
       "      <td>2015-06-22 17:19:18 UTC</td>\n",
       "      <td>-73.98</td>\n",
       "      <td>40.77</td>\n",
       "      <td>-73.99</td>\n",
       "      <td>40.76</td>\n",
       "      <td>1</td>\n",
       "      <td>0.01</td>\n",
       "      <td>2015-06-22 17:19:18+00:00</td>\n",
       "      <td>...</td>\n",
       "      <td>0</td>\n",
       "      <td>17</td>\n",
       "      <td>22</td>\n",
       "      <td>2015</td>\n",
       "      <td>0</td>\n",
       "      <td>0</td>\n",
       "      <td>0</td>\n",
       "      <td>1</td>\n",
       "      <td>0</td>\n",
       "      <td>Evening</td>\n",
       "    </tr>\n",
       "    <tr>\n",
       "      <th>49997</th>\n",
       "      <td>53:00.0</td>\n",
       "      <td>6.90</td>\n",
       "      <td>2011-01-30 04:53:00 UTC</td>\n",
       "      <td>-74.00</td>\n",
       "      <td>40.74</td>\n",
       "      <td>-74.00</td>\n",
       "      <td>40.76</td>\n",
       "      <td>1</td>\n",
       "      <td>0.02</td>\n",
       "      <td>2011-01-30 04:53:00+00:00</td>\n",
       "      <td>...</td>\n",
       "      <td>6</td>\n",
       "      <td>4</td>\n",
       "      <td>30</td>\n",
       "      <td>2011</td>\n",
       "      <td>1</td>\n",
       "      <td>0</td>\n",
       "      <td>0</td>\n",
       "      <td>1</td>\n",
       "      <td>0</td>\n",
       "      <td>night</td>\n",
       "    </tr>\n",
       "    <tr>\n",
       "      <th>49998</th>\n",
       "      <td>09:00.0</td>\n",
       "      <td>4.50</td>\n",
       "      <td>2012-11-06 07:09:00 UTC</td>\n",
       "      <td>-73.95</td>\n",
       "      <td>40.78</td>\n",
       "      <td>-73.95</td>\n",
       "      <td>40.78</td>\n",
       "      <td>2</td>\n",
       "      <td>0.01</td>\n",
       "      <td>2012-11-06 07:09:00+00:00</td>\n",
       "      <td>...</td>\n",
       "      <td>1</td>\n",
       "      <td>7</td>\n",
       "      <td>6</td>\n",
       "      <td>2012</td>\n",
       "      <td>0</td>\n",
       "      <td>1</td>\n",
       "      <td>0</td>\n",
       "      <td>0</td>\n",
       "      <td>1</td>\n",
       "      <td>Morning</td>\n",
       "    </tr>\n",
       "    <tr>\n",
       "      <th>49999</th>\n",
       "      <td>13:14.0</td>\n",
       "      <td>10.90</td>\n",
       "      <td>2010-01-13 08:13:14 UTC</td>\n",
       "      <td>-73.93</td>\n",
       "      <td>40.76</td>\n",
       "      <td>-73.93</td>\n",
       "      <td>40.76</td>\n",
       "      <td>1</td>\n",
       "      <td>0.00</td>\n",
       "      <td>2010-01-13 08:13:14+00:00</td>\n",
       "      <td>...</td>\n",
       "      <td>2</td>\n",
       "      <td>8</td>\n",
       "      <td>13</td>\n",
       "      <td>2010</td>\n",
       "      <td>0</td>\n",
       "      <td>0</td>\n",
       "      <td>1</td>\n",
       "      <td>0</td>\n",
       "      <td>0</td>\n",
       "      <td>Morning</td>\n",
       "    </tr>\n",
       "  </tbody>\n",
       "</table>\n",
       "<p>50000 rows × 21 columns</p>\n",
       "</div>"
      ],
      "text/plain": [
       "      unique_id  amount      date_time_of_pickup  longitude_of_pickup  \\\n",
       "0       26:21.0    4.50  2009-06-15 17:26:21 UTC               -73.84   \n",
       "1       52:16.0   16.90  2010-01-05 16:52:16 UTC               -74.02   \n",
       "2       35:00.0    5.70  2011-08-18 00:35:00 UTC               -73.98   \n",
       "3       30:42.0    7.70  2012-04-21 04:30:42 UTC               -73.99   \n",
       "4       51:00.0    5.30  2010-03-09 07:51:00 UTC               -73.97   \n",
       "...         ...     ...                      ...                  ...   \n",
       "49995   25:15.0   15.00  2013-06-12 23:25:15 UTC               -74.00   \n",
       "49996   19:18.0    7.50  2015-06-22 17:19:18 UTC               -73.98   \n",
       "49997   53:00.0    6.90  2011-01-30 04:53:00 UTC               -74.00   \n",
       "49998   09:00.0    4.50  2012-11-06 07:09:00 UTC               -73.95   \n",
       "49999   13:14.0   10.90  2010-01-13 08:13:14 UTC               -73.93   \n",
       "\n",
       "       latitude_of_pickup  longitude_of_dropoff  latitude_of_dropoff  \\\n",
       "0                   40.72                -73.84                40.71   \n",
       "1                   40.71                -73.98                40.78   \n",
       "2                   40.76                -73.99                40.75   \n",
       "3                   40.73                -73.99                40.76   \n",
       "4                   40.77                -73.96                40.78   \n",
       "...                   ...                   ...                  ...   \n",
       "49995               40.75                -74.02                40.71   \n",
       "49996               40.77                -73.99                40.76   \n",
       "49997               40.74                -74.00                40.76   \n",
       "49998               40.78                -73.95                40.78   \n",
       "49999               40.76                -73.93                40.76   \n",
       "\n",
       "       no_of_passenger  total_distance          date_time_pickup  ...  \\\n",
       "0                    1            0.01 2009-06-15 17:26:21+00:00  ...   \n",
       "1                    1            0.08 2010-01-05 16:52:16+00:00  ...   \n",
       "2                    2            0.01 2011-08-18 00:35:00+00:00  ...   \n",
       "3                    1            0.03 2012-04-21 04:30:42+00:00  ...   \n",
       "4                    1            0.02 2010-03-09 07:51:00+00:00  ...   \n",
       "...                ...             ...                       ...  ...   \n",
       "49995                1            0.05 2013-06-12 23:25:15+00:00  ...   \n",
       "49996                1            0.01 2015-06-22 17:19:18+00:00  ...   \n",
       "49997                1            0.02 2011-01-30 04:53:00+00:00  ...   \n",
       "49998                2            0.01 2012-11-06 07:09:00+00:00  ...   \n",
       "49999                1            0.00 2010-01-13 08:13:14+00:00  ...   \n",
       "\n",
       "      pickup_day_no  pickup_hour  day_of_month  year  Is_it_Weekend  \\\n",
       "0                 0           17            15  2009              0   \n",
       "1                 1           16             5  2010              0   \n",
       "2                 3            0            18  2011              0   \n",
       "3                 5            4            21  2012              1   \n",
       "4                 1            7             9  2010              0   \n",
       "...             ...          ...           ...   ...            ...   \n",
       "49995             2           23            12  2013              0   \n",
       "49996             0           17            22  2015              0   \n",
       "49997             6            4            30  2011              1   \n",
       "49998             1            7             6  2012              0   \n",
       "49999             2            8            13  2010              0   \n",
       "\n",
       "       Is_Starting_month  Is_Mid_month  Is_Ending_month  Is_Leap  time_of_day  \n",
       "0                      0             1                0        0      Evening  \n",
       "1                      1             0                0        0      Evening  \n",
       "2                      0             1                0        0        night  \n",
       "3                      0             0                1        1        night  \n",
       "4                      1             0                0        0      Morning  \n",
       "...                  ...           ...              ...      ...          ...  \n",
       "49995                  0             1                0        0        night  \n",
       "49996                  0             0                1        0      Evening  \n",
       "49997                  0             0                1        0        night  \n",
       "49998                  1             0                0        1      Morning  \n",
       "49999                  0             1                0        0      Morning  \n",
       "\n",
       "[50000 rows x 21 columns]"
      ]
     },
     "execution_count": 49,
     "metadata": {},
     "output_type": "execute_result"
    }
   ],
   "source": [
    "taxi_fare"
   ]
  },
  {
   "cell_type": "markdown",
   "id": "4a7ddce9",
   "metadata": {},
   "source": [
    "# Bivariate Analysis"
   ]
  },
  {
   "cell_type": "code",
   "execution_count": 19,
   "id": "eeadf191",
   "metadata": {},
   "outputs": [
    {
     "data": {
      "image/png": "[encoded data removed]",
      "text/plain": [
       "<Figure size 864x576 with 1 Axes>"
      ]
     },
     "metadata": {
      "needs_background": "light"
     },
     "output_type": "display_data"
    }
   ],
   "source": [
    "pp=taxi_fare.pivot_table(index=\"time_of_day\",columns=\"pickup_day\",values=\"no_of_passenger\",aggfunc=\"count\")\n",
    "pp.plot(kind=\"bar\",figsize=(12,8))\n",
    "plt.title(\"Time of Day VS Count of Passengers\")\n",
    "plt.xlabel(\"TimeOfDay\")\n",
    "plt.ylabel(\"Count of Passengers\")\n",
    "plt.show()"
   ]
  },
  {
   "cell_type": "code",
   "execution_count": 41,
   "id": "18e0ecdd",
   "metadata": {},
   "outputs": [
    {
     "data": {
      "image/png": "[encoded data removed]",
      "text/plain": [
       "<Figure size 1080x576 with 1 Axes>"
      ]
     },
     "metadata": {
      "needs_background": "light"
     },
     "output_type": "display_data"
    }
   ],
   "source": [
    "pp=taxi_fare.pivot_table(index=\"time_of_day\",columns=\"pickup_day\",values=\"amount\",aggfunc=\"mean\")\n",
    "pp.plot(kind=\"bar\",figsize=(15,8))\n",
    "plt.title(\"Time of Day VS Avg Fare\")\n",
    "plt.xlabel(\"TimeOfDay\")\n",
    "plt.ylabel(\"Avg Fare\")\n",
    "plt.show()"
   ]
  },
  {
   "cell_type": "code",
   "execution_count": 20,
   "id": "97b13016",
   "metadata": {},
   "outputs": [
    {
     "data": {
      "image/png": "[encoded data removed]",
      "text/plain": [
       "<Figure size 576x360 with 1 Axes>"
      ]
     },
     "metadata": {
      "needs_background": "light"
     },
     "output_type": "display_data"
    }
   ],
   "source": [
    "import seaborn as sns\n",
    "fig,ax = plt.subplots(figsize=(8,5))\n",
    "ax.set_title('pickup_day')\n",
    "ax=sns.countplot(x=\"pickup_day\",data=taxi_fare,ax=ax)"
   ]
  },
  {
   "cell_type": "code",
   "execution_count": 22,
   "id": "00beff61",
   "metadata": {},
   "outputs": [
    {
     "data": {
      "text/plain": [
       "<BarContainer object of 4 artists>"
      ]
     },
     "execution_count": 22,
     "metadata": {},
     "output_type": "execute_result"
    },
    {
     "data": {
      "image/png": "[encoded data removed]",
      "text/plain": [
       "<Figure size 432x288 with 1 Axes>"
      ]
     },
     "metadata": {
      "needs_background": "light"
     },
     "output_type": "display_data"
    }
   ],
   "source": [
    "ab=taxi_fare.pivot_table(index=\"time_of_day\",values=\"total_distance\",aggfunc=\"mean\").reset_index()\n",
    "plt.bar(ab[\"time_of_day\"],ab[\"total_distance\"])"
   ]
  },
  {
   "cell_type": "code",
   "execution_count": 25,
   "id": "2583e317",
   "metadata": {},
   "outputs": [
    {
     "data": {
      "image/png": "[encoded data removed]",
      "text/plain": [
       "<Figure size 432x288 with 1 Axes>"
      ]
     },
     "metadata": {
      "needs_background": "light"
     },
     "output_type": "display_data"
    }
   ],
   "source": [
    "amount_time=taxi_fare.pivot_table(index=\"time_of_day\",values=\"amount\",aggfunc=\"mean\").reset_index()\n",
    "amount_time=amount_time.sort_values(by=\"time_of_day\")\n",
    "plt.plot(amount_time[\"time_of_day\"],amount_time[\"amount\"])\n",
    "plt.title(\"Time of Day Vs Avg Fare\")\n",
    "plt.xlabel(\"Time of Day\")\n",
    "plt.ylabel(\"Avg FAre\")\n",
    "plt.show()\n"
   ]
  },
  {
   "cell_type": "code",
   "execution_count": 27,
   "id": "e2dd73cb",
   "metadata": {},
   "outputs": [
    {
     "data": {
      "text/plain": [
       "<AxesSubplot:xlabel='amount', ylabel='pickup_hour'>"
      ]
     },
     "execution_count": 27,
     "metadata": {},
     "output_type": "execute_result"
    },
    {
     "data": {
      "image/png": "[encoded data removed]",
      "text/plain": [
       "<Figure size 432x288 with 2 Axes>"
      ]
     },
     "metadata": {
      "needs_background": "light"
     },
     "output_type": "display_data"
    }
   ],
   "source": [
    "taxi_fare.plot.hexbin(x=\"amount\",y=\"pickup_hour\",gridsize=15)"
   ]
  },
  {
   "cell_type": "code",
   "execution_count": 28,
   "id": "845cc80a",
   "metadata": {},
   "outputs": [
    {
     "data": {
      "image/png": "[encoded data removed]",
      "text/plain": [
       "<Figure size 720x576 with 1 Axes>"
      ]
     },
     "metadata": {
      "needs_background": "light"
     },
     "output_type": "display_data"
    }
   ],
   "source": [
    "fig,ax=plt.subplots(figsize=(10,8))\n",
    "ax.set_title(\"time_of_day\")\n",
    "ax=sns.countplot(x=\"time_of_day\",data=taxi_fare,ax=ax)"
   ]
  },
  {
   "cell_type": "code",
   "execution_count": 79,
   "id": "94b2e342",
   "metadata": {},
   "outputs": [
    {
     "name": "stdout",
     "output_type": "stream",
     "text": [
      "<class 'pandas.core.frame.DataFrame'>\n",
      "RangeIndex: 50000 entries, 0 to 49999\n",
      "Data columns (total 21 columns):\n",
      " #   Column                Non-Null Count  Dtype  \n",
      "---  ------                --------------  -----  \n",
      " 0   amount                50000 non-null  float64\n",
      " 1   no_of_passenger       50000 non-null  int64  \n",
      " 2   total_distance        50000 non-null  float64\n",
      " 3   pickup_day_no         50000 non-null  int64  \n",
      " 4   pickup_hour           50000 non-null  int64  \n",
      " 5   day_of_month          50000 non-null  int64  \n",
      " 6   year                  50000 non-null  int64  \n",
      " 7   Is_it_Weekend         50000 non-null  int32  \n",
      " 8   Is_Starting_month     50000 non-null  int32  \n",
      " 9   Is_Mid_month          50000 non-null  int32  \n",
      " 10  Is_Ending_month       50000 non-null  int32  \n",
      " 11  Is_Leap               50000 non-null  int32  \n",
      " 12  time_of_day_Evening   50000 non-null  uint8  \n",
      " 13  time_of_day_Morning   50000 non-null  uint8  \n",
      " 14  time_of_day_night     50000 non-null  uint8  \n",
      " 15  pickup_day_Monday     50000 non-null  uint8  \n",
      " 16  pickup_day_Saturday   50000 non-null  uint8  \n",
      " 17  pickup_day_Sunday     50000 non-null  uint8  \n",
      " 18  pickup_day_Thursday   50000 non-null  uint8  \n",
      " 19  pickup_day_Tuesday    50000 non-null  uint8  \n",
      " 20  pickup_day_Wednesday  50000 non-null  uint8  \n",
      "dtypes: float64(2), int32(5), int64(5), uint8(9)\n",
      "memory usage: 4.1 MB\n"
     ]
    }
   ],
   "source": [
    "taxi_fare1.info()"
   ]
  },
  {
   "cell_type": "code",
   "execution_count": 29,
   "id": "84b18a7c",
   "metadata": {},
   "outputs": [],
   "source": [
    "taxi_fare1 = pd.get_dummies(taxi_fare , columns=[\"time_of_day\",\"pickup_day\"], drop_first=True)"
   ]
  },
  {
   "cell_type": "code",
   "execution_count": 30,
   "id": "efa1039f",
   "metadata": {},
   "outputs": [],
   "source": [
    "taxi_fare1.drop(columns=[\"unique_id\",\"date_time_of_pickup\",\"longitude_of_pickup\",\"latitude_of_pickup\",\"longitude_of_dropoff\",\"latitude_of_dropoff\",\"date_time_pickup\"], axis=1,inplace= True)"
   ]
  },
  {
   "cell_type": "code",
   "execution_count": null,
   "id": "cc2c54de",
   "metadata": {},
   "outputs": [],
   "source": [
    "# SPlitting data into Independent and dependnet variables"
   ]
  },
  {
   "cell_type": "code",
   "execution_count": 31,
   "id": "ab676d0b",
   "metadata": {},
   "outputs": [],
   "source": [
    "y=taxi_fare1[\"amount\"]\n",
    "X=taxi_fare1.drop(\"amount\", axis=1)"
   ]
  },
  {
   "cell_type": "code",
   "execution_count": null,
   "id": "648ee9a0",
   "metadata": {},
   "outputs": [],
   "source": [
    "#Splitting data into Train and Tst data"
   ]
  },
  {
   "cell_type": "code",
   "execution_count": 32,
   "id": "b9c7aff4",
   "metadata": {},
   "outputs": [
    {
     "data": {
      "text/plain": [
       "RandomForestRegressor()"
      ]
     },
     "execution_count": 32,
     "metadata": {},
     "output_type": "execute_result"
    }
   ],
   "source": [
    "X_train,X_test,y_train,y_test=train_test_split(X,y,test_size=.2,random_state=88)\n",
    "rf1=RandomForestRegressor()\n",
    "rf1.fit(X_train,y_train)"
   ]
  },
  {
   "cell_type": "code",
   "execution_count": 33,
   "id": "7400c30f",
   "metadata": {},
   "outputs": [
    {
     "name": "stdout",
     "output_type": "stream",
     "text": [
      "train accuracy is  0.9710497346714265\n",
      "test accuracy is  0.7877390050311515\n"
     ]
    }
   ],
   "source": [
    "print(\"train accuracy is \",rf1.score(X_train,y_train))\n",
    "print(\"test accuracy is \",rf1.score(X_test,y_test))"
   ]
  },
  {
   "cell_type": "code",
   "execution_count": 49,
   "id": "8375209b",
   "metadata": {},
   "outputs": [
    {
     "data": {
      "text/plain": [
       "count   40000.00\n",
       "mean       11.25\n",
       "std         8.97\n",
       "min         3.00\n",
       "25%         6.00\n",
       "50%         8.50\n",
       "75%        12.50\n",
       "max        52.00\n",
       "Name: amount, dtype: float64"
      ]
     },
     "execution_count": 49,
     "metadata": {},
     "output_type": "execute_result"
    }
   ],
   "source": [
    "y_train.describe().T"
   ]
  },
  {
   "cell_type": "code",
   "execution_count": null,
   "id": "7d5be3f7",
   "metadata": {},
   "outputs": [],
   "source": [
    "from sklearn.model_selection import GridSearchCV\n",
    "parameters={\n",
    "\"n_estimators\":[20,50],\n",
    "\"criterion\":[\"mse\"],\n",
    "\"max_depth\":[3,5,6,7],\n",
    "#\"min_samples_split\":[2,4,6],\n",
    "#\"min_samples_leaf\":[2,4,6]\n",
    "}\n",
    "rf2=RandomForestRegressor()\n",
    "rf_gs=GridSearchCV(estimator=rf2,param_grid=parameters,scoring=\"accuracy\",cv=10,verbose=1)\n",
    "rf_gs.fit(X_train,y_train)"
   ]
  },
  {
   "cell_type": "code",
   "execution_count": null,
   "id": "4420aa27",
   "metadata": {},
   "outputs": [],
   "source": [
    "rf_gs.best_params_"
   ]
  },
  {
   "cell_type": "code",
   "execution_count": 50,
   "id": "813810d3",
   "metadata": {},
   "outputs": [
    {
     "data": {
      "text/plain": [
       "RandomForestRegressor(max_depth=6, n_estimators=20)"
      ]
     },
     "execution_count": 50,
     "metadata": {},
     "output_type": "execute_result"
    }
   ],
   "source": [
    "rff=RandomForestRegressor(criterion= 'mse', max_depth= 6, n_estimators= 20)\n",
    "rff.fit(X_train,y_train)"
   ]
  },
  {
   "cell_type": "code",
   "execution_count": 51,
   "id": "59a32bc7",
   "metadata": {},
   "outputs": [
    {
     "data": {
      "text/plain": [
       "0.818922447026035"
      ]
     },
     "execution_count": 51,
     "metadata": {},
     "output_type": "execute_result"
    }
   ],
   "source": [
    "rff.score(X_train,y_train)"
   ]
  },
  {
   "cell_type": "code",
   "execution_count": 52,
   "id": "d82fc337",
   "metadata": {},
   "outputs": [
    {
     "data": {
      "text/plain": [
       "0.7962994275573739"
      ]
     },
     "execution_count": 52,
     "metadata": {},
     "output_type": "execute_result"
    }
   ],
   "source": [
    "rff.score(X_test,y_test)"
   ]
  },
  {
   "cell_type": "code",
   "execution_count": 53,
   "id": "bc83f4ef",
   "metadata": {},
   "outputs": [],
   "source": [
    "y_train_pred=rff.predict(X_train)\n",
    "y_test_pred=rff.predict(X_test)"
   ]
  },
  {
   "cell_type": "code",
   "execution_count": 54,
   "id": "a9af46c0",
   "metadata": {},
   "outputs": [
    {
     "name": "stdout",
     "output_type": "stream",
     "text": [
      "RMSE of Train:  3.8154112934965285\n",
      "RMSE of Test:  4.063390529259363\n"
     ]
    }
   ],
   "source": [
    "print(\"RMSE of Train: \", np.sqrt(np.mean((y_train-y_train_pred)**2) ))\n",
    "print(\"RMSE of Test: \", np.sqrt(np.mean((y_test-y_test_pred)**2) ))"
   ]
  },
  {
   "cell_type": "code",
   "execution_count": 55,
   "id": "6a762797",
   "metadata": {},
   "outputs": [
    {
     "name": "stdout",
     "output_type": "stream",
     "text": [
      "MAE of Train:  2.0996037662220397\n",
      "MAE of Test:  2.153558048708826\n"
     ]
    }
   ],
   "source": [
    "print(\"MAE of Train: \", np.mean(np.abs(y_train-y_train_pred)) )\n",
    "print(\"MAE of Test: \", np.mean(np.abs(y_test-y_test_pred)) )"
   ]
  },
  {
   "cell_type": "code",
   "execution_count": 56,
   "id": "ebdca9ec",
   "metadata": {},
   "outputs": [
    {
     "name": "stdout",
     "output_type": "stream",
     "text": [
      "R^2 is train:  0.818922447026035\n",
      "R^2 is test:  0.7962994275573739\n"
     ]
    }
   ],
   "source": [
    "print(\"R^2 is train: \", rff.score(X_train, y_train))\n",
    "print(\"R^2 is test: \", rff.score(X_test, y_test))"
   ]
  },
  {
   "cell_type": "code",
   "execution_count": null,
   "id": "c371ab08",
   "metadata": {},
   "outputs": [],
   "source": []
  }
 ],
 "metadata": {
  "kernelspec": {
   "display_name": "Python 3",
   "language": "python",
   "name": "python3"
  },
  "language_info": {
   "codemirror_mode": {
    "name": "ipython",
    "version": 3
   },
   "file_extension": ".py",
   "mimetype": "text/x-python",
   "name": "python",
   "nbconvert_exporter": "python",
   "pygments_lexer": "ipython3",
   "version": "3.8.8"
  }
 },
 "nbformat": 4,
 "nbformat_minor": 5
}
